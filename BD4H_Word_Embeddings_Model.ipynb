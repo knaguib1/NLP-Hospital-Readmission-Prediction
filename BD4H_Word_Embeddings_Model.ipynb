{
  "cells": [
    {
      "cell_type": "markdown",
      "metadata": {},
      "source": [
        "## This is a colab notebook! Please download and run in colab"
      ]
    },
    {
      "cell_type": "code",
      "execution_count": null,
      "metadata": {
        "colab": {
          "base_uri": "https://localhost:8080/"
        },
        "id": "LXrIB04mBjCf",
        "outputId": "96fd2bf7-00fb-4f10-9fb3-36174faaf9fb"
      },
      "outputs": [
        {
          "name": "stdout",
          "output_type": "stream",
          "text": [
            "Authenticated\n"
          ]
        }
      ],
      "source": [
        "# Retreive user creds\n",
        "from google.colab import auth\n",
        "auth.authenticate_user()\n",
        "print('Authenticated')"
      ]
    },
    {
      "cell_type": "markdown",
      "metadata": {
        "id": "481pVMGbCoOR"
      },
      "source": [
        "Enable Data Table Display using google.colab.data_table"
      ]
    },
    {
      "cell_type": "code",
      "execution_count": null,
      "metadata": {
        "id": "QlrHdU0TBrMM"
      },
      "outputs": [],
      "source": [
        "%load_ext google.colab.data_table"
      ]
    },
    {
      "cell_type": "markdown",
      "metadata": {
        "id": "Z0IyPy52Ct43"
      },
      "source": [
        "## Retrieving data from GCP BigQuery"
      ]
    },
    {
      "cell_type": "code",
      "execution_count": null,
      "metadata": {
        "colab": {
          "base_uri": "https://localhost:8080/"
        },
        "id": "7qvr5r-PDDRo",
        "outputId": "318a1527-0500-4a61-958c-63f734572c7b"
      },
      "outputs": [
        {
          "name": "stdout",
          "output_type": "stream",
          "text": [
            "env: GCLOUD_PROJECT=project_id\n"
          ]
        }
      ],
      "source": [
        "# GCP proejct\n",
        "project_id = 'nlp-332020'\n",
        "project_number = '1054321893028'\n",
        "\n",
        "%env GCLOUD_PROJECT=project_id"
      ]
    },
    {
      "cell_type": "code",
      "execution_count": null,
      "metadata": {
        "id": "GDZ06zrGE3od"
      },
      "outputs": [],
      "source": [
        "# authenticate colab notebook\n",
        "import sys\n",
        "if \"google.colab\" in sys.modules:\n",
        "    from google.colab import auth\n",
        "    auth.authenticate_user()"
      ]
    },
    {
      "cell_type": "code",
      "execution_count": null,
      "metadata": {
        "id": "h4B4GqNVEf_l"
      },
      "outputs": [],
      "source": [
        "from google.cloud import bigquery\n",
        "\n",
        "client = bigquery.Client(project=project_id)"
      ]
    },
    {
      "cell_type": "code",
      "execution_count": null,
      "metadata": {
        "colab": {
          "base_uri": "https://localhost:8080/"
        },
        "id": "H7MwvTwhCTNS",
        "outputId": "38a8c8c8-a418-48c8-8ffc-537b0f1f5a71"
      },
      "outputs": [
        {
          "name": "stdout",
          "output_type": "stream",
          "text": [
            "Full dataset has 63214 rows\n"
          ]
        }
      ],
      "source": [
        "sample_count = 2000\n",
        "row_count = client.query('''\n",
        "  SELECT \n",
        "    COUNT(*) as total\n",
        "  FROM `nlp-332020.readmission_dataset.cleaned_dataset`''').to_dataframe().total[0]\n",
        "\n",
        "df = client.query('''\n",
        "  SELECT\n",
        "  text_new,\n",
        "  CASE\n",
        "  -- Readmitted within 6 months of last visit.\n",
        "  -- There are weird cases in which ppl have identical entries except for\n",
        "  -- some differences in the clinical notes. We shouldn't count those as readmits\n",
        "    WHEN next_admission != Admittime AND DATE_DIFF(next_admission, Admittime, MONTH) <= 6 THEN 1\n",
        "  ELSE\n",
        "  0\n",
        "END\n",
        "  AS readmitted\n",
        "FROM (\n",
        "  SELECT\n",
        "    * EXCEPT(TEXT),\n",
        "    -- Spark DF's are weird about return chars\n",
        "    -- This just makes it one long string and\n",
        "    -- gets rid of non-letter/num chars\n",
        "    REGEXP_REPLACE(TEXT, r\"\\W\", \" \") AS text_new,\n",
        "    LEAD(Admittime) OVER(PARTITION BY SUBJECT_ID ORDER BY Admittime) AS next_admission\n",
        "  FROM\n",
        "    `nlp-332020.readmission_dataset.cleaned_dataset`\n",
        "  WHERE\n",
        "  -- Don't include ppl who died\n",
        "    deathtime IS NULL)\n",
        "''').to_dataframe()\n",
        "\n",
        "print('Full dataset has %d rows' % row_count)"
      ]
    },
    {
      "cell_type": "code",
      "execution_count": null,
      "metadata": {
        "colab": {
          "base_uri": "https://localhost:8080/"
        },
        "id": "568RTDtEJo5E",
        "outputId": "0ba95c19-fc24-462a-b83b-d716593e60ff"
      },
      "outputs": [
        {
          "data": {
            "text/plain": [
              "pandas.core.frame.DataFrame"
            ]
          },
          "execution_count": 7,
          "metadata": {},
          "output_type": "execute_result"
        }
      ],
      "source": [
        "type(df)"
      ]
    },
    {
      "cell_type": "code",
      "execution_count": null,
      "metadata": {
        "colab": {
          "base_uri": "https://localhost:8080/"
        },
        "id": "iG-Z-22YIu1d",
        "outputId": "8fca6cbb-9400-4d86-9414-5250e359ff0e"
      },
      "outputs": [
        {
          "data": {
            "text/plain": [
              "(56750, 2)"
            ]
          },
          "execution_count": 8,
          "metadata": {},
          "output_type": "execute_result"
        }
      ],
      "source": [
        "df.shape"
      ]
    },
    {
      "cell_type": "code",
      "execution_count": null,
      "metadata": {
        "colab": {
          "base_uri": "https://localhost:8080/"
        },
        "id": "YZfI9TpJLCxx",
        "outputId": "e6296e0d-7c9a-4041-c36d-8cc73aea53f1"
      },
      "outputs": [
        {
          "data": {
            "text/plain": [
              "Index(['text_new', 'readmitted'], dtype='object')"
            ]
          },
          "execution_count": 9,
          "metadata": {},
          "output_type": "execute_result"
        }
      ],
      "source": [
        "df.columns"
      ]
    },
    {
      "cell_type": "code",
      "execution_count": null,
      "metadata": {
        "colab": {
          "base_uri": "https://localhost:8080/",
          "height": 1689
        },
        "id": "j93wNjuWFqVe",
        "outputId": "3c0630c2-596d-49ec-d60a-29435207f14c"
      },
      "outputs": [
        {
          "data": {
            "application/vnd.google.colaboratory.module+javascript": "\n      import \"https://ssl.gstatic.com/colaboratory/data_table/a6224c040fa35dcf/data_table.js\";\n\n      window.createDataTable({\n        data: [[{\n            'v': 0,\n            'f': \"0\",\n        },\n\"Admission Date      2170 4 4        Discharge Date      2170 4 23     Date of Birth       2124 9 29        Sex   M  Service   Thoracic Surgery  CHIEF COMPLAINT   Tracheal stenosis   HISTORY OF PRESENT ILLNESS   The patient is a 45 year old male with a history of chronic obstructive pulmonary disease and obstructive sleep apnea who underwent uvulopalatotectomy in    2165      This was complicated by hemorrhage and a tracheostomy for a period of two weeks   Subsequently  he has had multiple dilatations for the tracheal stenosis   He is now here for tracheal reconstruction   PAST MEDICAL HISTORY   1   Obstructive sleep apnea  status post uvulopalatotectomy   2   Tracheostomy for two weeks in    2165      3   Chronic obstructive pulmonary disease   4   Hypertension   5   Atrial fibrillation   The patient has failed several direct cardioversions   6   Alcohol abuse   7   History of cardiac catheterization in    2169 6 28    with an ejection fraction of 69  and clean coronaries   8   Kidney stones   9   Umbilical hernia  10   Gastroesophageal reflux disease   MEDICATIONS ON ADMISSION   Flovent  Atrovent  albuterol  guaifenesin 500 mg p o  q d   prednisone 60 mg p o  q d   Protonix 40 mg p o  q d   diltiazem 120 mg p o  b i d   Zestril 10 mg p o  q d   amiodarone 200 mg p o  q d   Lopressor 25 mg p o  b i d   digoxin 0 25 mg p o  q d   Colace 100 mg p o  b i d   Klonopin 0 5 mg p o  t i d  p r n   trazodone 50 mg p o  q h s  p r n   Lipitor 10 mg p o  q d   Coumadin  which has been held    ALLERGIES   PENICILLIN   HOSPITAL COURSE   The patient underwent a rigid bronchoscopy and direct laryngoscopy  tracheal resection and reconstruction on    2170 4 4      His intraoperative course was uneventful   He was admitted to the Intensive Care Unit postoperatively in an intubated condition   He remained intubated overnight and was in a stable condition   He was extubated on postoperative day one   He remained in atrial fibrillation at this time   He was started on a diltiazem drip for the atrial fibrillation with a rate of 150s   He underwent a bronchoscopy which showed mild anastomotic edema and was therefore continued on diuresis  He remained in the Intensive Care Unit for the next few days slowly improving with aggressive respiratory treatment   His Coumadin was restarted on postoperative day three   He was continued on antibiotics of vancomycin and Flagyl which had been started in the initial postoperative period   On postoperative day six  he complained of some left lower extremity pain   He underwent a lower extremity noninvasive study which revealed a left lower extremity deep venous thrombosis   At this point  he was started on Lovenox as he was not yet therapeutic on his Coumadin   On    2170 4 10     he underwent another bronchoscopy which again revealed mucosal edema at the anastomotic site   In the next few days in the Intensive Care Unit were essentially uneventful as he slowly improved  and his respiratory function was slowly improving   He was deemed ready for transfer to the regular floor on postoperative day eight   He was stable on the floor over the next few days   His Coumadin was continued until it reached a therapeutic level  and at that point the Lovenox was stopped  He continued to have left leg pain secondary to the deep venous thrombosis and was treated with a morphine patient controlled analgesia   He had aggressive respiratory toilet as well at this point   His clinical condition slowly improved  and he started ambulating  and his respiratory function improved as well   On postoperative day 16     2170 4 20      he went back to the operating room for a bronchoscopy   At that time  his airways were clean  and there was no mucosal edema   He was now ready for discharge home on Coumadin   MEDICATIONS ON DISCHARGE   1   Diltiazem 120 mg p o  b i d   2   Lisinopril 10 mg p o  q d   3   Amiodarone 20 mg p o  q d   4   Digoxin 0 25 mg p o  q d   5   Colace 100 mg p o  b i d   6   Vitamin A 25 000 units q d   7   Zinc 220 mg p o  q d   8   Atrovent inhaler 2 puffs q i d   9   Flovent 110 mcg 2 puffs b i d  10   Lopressor 25 mg p o  b i d  11   Protonix 40 mg p o  q d  12   Vitamin C 500 mg p o  q d  13   Percocet one to two tablets p o  q 4 6h  p r n  14   Lipitor 10 mg p o  q d  15   Coumadin 5 mg p o  q d   INR is to be checked twice every week by primary care physician and then subsequently per primary care physician s recommendations    DISCHARGE FOLLOWUP    Follow up with Dr     Last Name  STitle  952    in clinic in one week                                   First Name11  Name Pattern1         Last Name  NamePattern4  3351     M D      MD Number 1  3352     Dictated By    Last Name  NamePattern1  2209     MEDQUIST36  D      2170 4 21     22 14 T      2170 4 24     20 01 JOB       Job Number 35005    \",\n{\n            'v': 0,\n            'f': \"0\",\n        }],\n [{\n            'v': 1,\n            'f': \"1\",\n        },\n\"Admission Date     2139 7 26           Discharge Date     2139 8 9     Date of Birth      2060 11 20           Sex   F  Service   TRA   HISTORY OF PRESENT ILLNESS   Acute right middle cerebral artery occlusion  stroke  following four vessel angiogram  left subdural hematoma  C7 fracture  glaucoma  question of hydrocephalus and a right total knee replacement   HOSPITAL COURSE   The patient was a 78 year old woman with a history of hypertension  glaucoma and dementia who was found unconscious by her bed by her brother and wife   She was taken to an outside hospital and found to have a C6 7 fracture and sent to    Hospital1 69     Hemodynamically stable in the hospital but on route she had an episode of confusion and in the hospital with garbled speech   Neurologic examination was intact at the time   She had no complaints of pain on arrival   Neurosurgery was consulted for the subdural hematoma and on    2139 7 27     she underwent a four vessel angiogram   After    2139 7 27     four vessel angiogram  the patient was noted to have signs and symptoms consistent with a right cerebrovascular accident   The four vessel angiogram was to rule out vertebral artery dissection   Per Dr     First Name  STitle       throughout the procedure  she was conversant  though slightly agitated  but she was given 0 5 mg of Midazolam times two  She remained conversant until just after the right carotid was imaged at which time she manifested garbled speech   On examination  she had garbled speech and was uncooperative with motor examination although she was moving all extremities but decreased on the left   Head CT showed no focal lesions  however  magnetic resonance imaging showed silent embolus of middle cerebral artery and accordingly Dr     Last Name  STitle      of neurology stroke was consulted   Trauma surgery considered transfer of patient to    Hospital6     for neurosurgery intervention  however  this was not possible due to procedure space availability      Hospital6 15291    already had another intervention team to complete another  emergent procedure until 10 00 p m  when the window for intervention would have been ended   Therefore  the plan was for supportive care   No Aspirin or Heparin was provided per neurosurgery because of her left subdural hematoma   The patient s course in the Intensive Care Unit continued to improve at which point on    2139 8 1     she was transferred to the floor   The patient then required a percutaneous endoscopic gastrostomy tube for feeding which was placed on    2139 8 4     without incident   She was started on tube feeds and tolerated that well   She is currently no full strength tube feeds at 60 cc hour   The patient continued to improve throughout the hospital course   CONDITION ON DISCHARGE   Fair   MEDICATIONS ON DISCHARGE  1  Bisacodyl 10 mg p o  or PR as needed  2  Metoprolol 12 5 mg twice a day  3  Aspirin 81 mg once daily  4  Colace in liquid form 100 mg twice a day  5  Lasoprazole 30 mg p o  once daily    FOLLOW UP   The patient is to follow up with    Hospital6 8866    Interventional Neuroradiology Department                                 First Name11  Name Pattern1         Last Name  NamePattern1          MD Number 1  13037     Dictated By    Last Name  NamePattern1  22242    MEDQUIST36 D      2139 8 9    11 57 52 T      2139 8 9    13 09 44 Job       Job Number 56356     cc    Hospital6    \",\n{\n            'v': 0,\n            'f': \"0\",\n        }],\n [{\n            'v': 2,\n            'f': \"2\",\n        },\n\"Admission Date      2139 7 26                 Discharge Date       2139 8 9     Date of Birth      2060 11 20                Sex    F  Service     Last Name  un       Allergies  Patient recorded as having No Known Allergies to Drugs  Attending    First Name3  LF  974    Chief Complaint  Subdural hematoma s p fall  Major Surgical or Invasive Procedure  four vessel angiography  History of Present Illness  78 yo F s p fall found down  pt denies LOC    on XRAY has a C7 cervical fracture  head CT with small L SDH   Neurologically intact  no focal weakness  numbness  parasthesias  Past Medical History  glaucoma  hydrocephalus  R total knee replacement  Social History  unknown  Family History  unknown  Physical Exam  99   127 52   91   18   100  on nasal canula A O x 3 PERRL RRR CTA b l ABD soft  nt nd ext warm  no edema neuro intact  Pertinent Results  four vessel angio with Right MCA acute occlusion  Brief Hospital Course  Pt admitted with C7 fracture and L SDH after 4 vessel angio found to have R MCA occlusion and will need intervention   Medications on Admission  toprol mvi aricept  Discharge Medications  protonix metoprolol hydralazine   Discharge Disposition  Extended Care  Facility     Hospital3 7      Rehab Center      Hospital1 8     Discharge Diagnosis  Acute Right MCA Occlusion Stroke L Sub dural hematoma C7 fracture Glaucoma  Hydrocephalus R total Knee replacement hypertension dementia  Discharge Condition  critical  Discharge Instructions  bedrest venodyes pul toilet npo ivf C collar on neuro checks  Followup Instructions  f u with interventional neuroradiology   Completed by    0 0 0   \",\n{\n            'v': 0,\n            'f': \"0\",\n        }],\n [{\n            'v': 3,\n            'f': \"3\",\n        },\n\"Admission Date      2124 8 28                 Discharge Date       2124 9 12     Date of Birth      2045 1 4                Sex    F  Service  MEDICINE  Allergies  Sulfamethoxazole Trimethoprim   Codeine   Antihistamines  Attending    First Name3  LF  1145    Chief Complaint  Shortness of Breath  Major Surgical or Invasive Procedure  EP study  pacer placement  History of Present Illness  80 yo F h o rheumatic heart dz Mitral stenosis  AS  AR   CC  Shortness of breath            HPI  Pt is a 79 y o female with rheumatic heart disease  rapid atrial fibrillation  strong smoking history  and COPD who presents with shortness of breath   She had a recent admission for jaw chest pain where found to have only a 40  proximal LAD lesion but was noted to be in rapid afib and was discharged on diltiazem for rate control  She was discharged with    Initials  NamePattern4         Last Name  NamePattern4      of hearts monitor   She was subsuquently seen by Dr     Last Name  STitle      in cardiology clinic where she was again found to be in rapid a fib  with a rate near 150  admission for cardioversion was discussed at length  but the patient refused  so she was started on metoprolol 50mg    Hospital1      aspirin  and warfarin    The pt continued to have SOB and palpitations so she sought further care in    Hospital1 18     The pt denies any chest pain  In the ED  the pt briefly required non invasive ventilatory support for the SOB  CXR showed pulmonary edema  ECG revealed a fib at 140 s 150 s with ST depressions v4 v6 and trop leak to 0 24 c w demand ischemia  IV dilt was started in the    Last Name  LF          First Name3  LF      cardiology consultant recs and the pt was transferred to the medicine floor    On the medicine floor  the telemetry showed a fib with rates to 150 s  with periods of asystole lasting for a couple of seconds  during which the pt reported dizziness and nausea  The pt was transferred to the CCU for further monitoring and management  The plan at the CCU was to place a temporary pacer wire so that rate control therapy could be safely started once a back up rhythm could be guaranteed by the temporary pacer  Venous cannulation was unable to be acheived at the bedside  However  during the attempts to place the venous cannula  the pt converted to sinus rhythm at 70 80 bpm      Past Medical History  CORONARY ARTERY DISEASE MULTINODULAR GOITER CONSTIPATION H O ATYPICAL CHEST PAIN CHRONIC BRONCHITIS CHRONIC LOW BACK PAIN S P TAH BSO CIGARETTE SMOKING HYPERCHOLESTEROLEMIA PANIC DISORDER   Social History  Lives with son  denies etoh  Smoker  current  PPD x 60 yrs     Family History  Non contributory  Physical Exam  PE T    BP     HR     RR    O2sats Gen  NAD  breathing with mask HEENT  PERRL and A  EOM intact  moist mucous membranes  Neck  no masses   JVD b l  no carotid bruits Lungs  decr  breath sounds at bases  wheezes throughout  no crackles Heart  irreg rate  nl s1 s2  no m r g Abd  soft  nt nd   bs Ext  no cyanosis  clubbing  min  symmetric LE edema  2  rad dp pulses Neuro  a ox3  non focal  Pertinent Results  Cath    2123 3 16     Taxus to 80  RCA lesion   Cath    2124 8 3     RHC  PA 25 15  PCWP 15  CO CI SVR   5 35 3 65 942    Location  un  109    1 0  mean gradient 22  Mitral area 2 0 gradient 8  3  AI  2  MR RCA  patent LAD  40  proximal discrete LCX  patent   CXR    2124 8 28     pulmonary edema congestive heart failure    Echo    2124 8 29     Conclusions  The left atrium is elongated  There is mild symmetric left ventricular hypertrophy with normal cavity size and systolic function  LVEF 55    Regional left ventricular wall motion is normal  The ascending aorta is mildly dilated  The aortic valve leaflets are severely thickened deformed  There is moderate aortic valve stenosis  Mild to moderate     12 26      aortic regurgitation is seen  The mitral valve leaflets are moderately thickened  The mitral valve shows characteristic rheumatic deformity  There is moderate thickening of the mitral valve chordae  There is a minimally increased gradient consistent with trivial mitral stenosis  Moderate to severe  3   mitral regurgitation is seen   Due to acoustic shadowing  the severity of mitral regurgitation may be significantly UNDERestimated   There is mild pulmonary artery systolic hypertension  There is no pericardial effusion  Compared with the prior study  tape reviewed  of    2124 5 9     the severity of mitral regurgitation has increased and the estimated pulmonary artery systolic pressure is higher  The transaortic valve gradient is also increased        2124 8 28    08 29PM   cTropnT 0 20     2124 8 28    08 29PM   WBC 10 4  RBC 3 65  HGB 10 4  HCT 31 4  MCV 86 MCH 28 6 MCHC 33 1 RDW 14 6    2124 8 28    08 45AM   GLUCOSE 118  UREA N 28  CREAT 1 1 SODIUM 140 POTASSIUM 4 0 CHLORIDE 104 TOTAL CO2 22 ANION GAP 18    2124 8 28    08 45AM   CALCIUM 9 6 PHOSPHATE 4 5 MAGNESIUM 1 8    2124 8 28    08 45AM   cTropnT 0 24     2124 8 28    08 45AM   CK CPK  124    2124 8 28    03 10AM   CK MB 5 cTropnT 0 04  proBNP 6646     2124 8 28    03 10AM   DIGOXIN  0 2     2124 8 28    03 10AM   PT 14 7  PTT 27 6 INR PT  1 4  Brief Hospital Course  A P  79 yo F with valvular heart failure AS area 1 0 gradient 22  MS area 2 0 gradient 8  3 AI  2 MR  COPD and rapid AFib  presenting with SOB CHF exacerbation  The pt was found to be in rapid A fib on admission  developed long symptomatic ventricular pauses with rate control therapy  pacemaker was placed successfully in order to safely rate control      Rhythm  The pt described symptoms of increased fatigue and SOB on admission  She was noted to be in rapid Afib  She was initially rate controlled with dilt and metoprolol on the medicine floor  However  the pt was noted on the telemetry to have periods of    4 28    seconds of asysole  during which she felt light headed and nauseous  The pt was transferred to the CCU for more intensive monitoring  Attempted placement of catheter for temporary pacer was not successful  though pt converted to NSR  The pt was counseled regarding the benefits of permanent pacemaker so that the heart rhythm could be more successfully controlled  and she was amenable to this solution  The device was implanted successfully without complications  In terms of medical therapy Amiodarone for rate control and to attempt maintenence of sinus rhtyhm  For medical therapy  beta blocker and digoxin were used for rate control  Amiodarone was added to maintain sinus rhythm  but was later discontued after the pt developed symptoms of mental status changes which may have been at least partly exacerbated by the amio  Anti coagulation for stroke prophylaxis was pursued with coumadin with a heparin bridge    2  CHF  Pt was initially found to be in acute CHF with pulmonary edema on CXR and increased O2 needs  This was assessed to be    1 26    a fib with RVR in setting of significant valvular heart disease  Pt had low bp 90 120 40 50  when she was in rapid a fib and on several BP meds  isordil  lisinopril 40  lasix 100 IV  The pt was diuresed gently and gradually brought to euvolemic state with medical therapy  Echo was repeated to evaluate for any changes since the previous echo in may and revealed no significant changes    3 CAD  The pt did have a slight troponin elevation which peaked at 0 24  This was likely secondary to demand ischemia in setting of rapid AFib and low BP that she had on HD 1  The were so symptoms of anginal pain  No area at risk per cath    2124 8 3     ASA  plavix  lipitor were continued    4  Mental status changes  In the post operative setting  after the device was placed  the pt devloped symptoms of acute delirium  She had fluctuating levels of consciousness as well as some agitation  particulalrly developing at night  The delirium was thought to be    1 26    to post operative setting  multiple medications including opiates  benzodiazepines  amiodarone  as well as a tenuous baseline status  The medication regimen was simplified and over the subsequent couple of days  the pt returned to her baseline mental status    5  FEN  Na restricted diet  fluid restriction  6  Chronic LBP  continue oxycodone oxycontin  7  PPx  anti coagulated  8  Code  Full  9  Dispo  The physical therapist evaluated the patient and recommended rehab  The physician team as well as the nursing staff impressed upon the pt that rehab was the safer option than returning home  The pt remained adamant that she wished to return home without rehab    Medications on Admission  1  coumadin  though pt was not therapeutic on admission 1  Aspirin 325 mg Tablet Sig  One  1  Tablet PO DAILY  Daily   2  Atorvastatin Calcium 20 mg Tablet Sig  One  1  Tablet PO DAILY  Daily   3  Ipratropium Bromide 18 mcg Actuation Aerosol Sig  Two  2  Puff Inhalation QID  4 times a day   4  Diazepam 2 mg Tablet Sig  One  1  Tablet PO Q8H  every 8 hours  as needed for anxiety  5  Fluticasone 110 mcg Actuation Aerosol Sig  Two  2  Puff Inhalation    Hospital1      2 times a day   6  Furosemide 20 mg Tablet Sig  0 5 Tablet PO DAILY  Daily   7  Lisinopril 20 mg Tablet Sig  Two  2  Tablet PO DAILY  Daily    8  Oxycodone 5 mg Tablet Sig  One  1  Tablet PO Q6H  every 6 hours  as needed for pain  9  Clopidogrel 75 mg Tablet Sig  One  1  Tablet PO DAILY  Daily   10  Lactulose 10 g 15 mL Syrup Sig  Thirty  30  ML PO TID  3 times a day   11  Oxycodone 20 mg Tablet Sustained Release 12HR Sig  One  1  Tablet Sustained Release 12HR PO QAM  once a day  in the morning    12  Oxycodone 10 mg Tablet Sustained Release 12HR Sig  One  1  Tablet Sustained Release 12HR PO MIDDAY     13  Oxycodone 10 mg Tablet Sustained Release 12HR Sig  One  1  Tablet Sustained Release 12HR PO QPM  once a day  in the evening    14  Ranitidine HCl 150 mg Tablet Sig  One  1  Tablet PO DAILY  Daily   15  Isosorbide Mononitrate 30 mg Tablet Sustained Release 24HR Sig  One  1  Tablet Sustained Release 24HR PO DAILY  Daily    16  Cardizem CD 240 mg Capsule  Sust  Release 24HR Sig  One  1  Capsule  Sust  Release 24HR PO once a day    Discharge Medications  1  medical supply one hospital bed  pt weight 48 kg  Height 5 foot 3 inches 2  commode one commode 3  Atorvastatin 20 mg Tablet Sig  One  1  Tablet PO DAILY  Daily   4  Fluticasone 110 mcg Actuation Aerosol Sig  Two  2  Puff Inhalation    Hospital1      2 times a day   5  Aspirin 81 mg Tablet  Chewable Sig  One  1  Tablet  Chewable PO DAILY  Daily   Disp  30 Tablet  Chewable s   Refills  2  6  Ranitidine HCl 150 mg Capsule Sig  One  1  Capsule PO once a day  7  Digoxin 125 mcg Tablet Sig  One  1  Tablet PO DAILY  Daily   Disp  30 Tablet s   Refills  0  8  Lasix 20 mg Tablet Sig  One  1     12 26    Tablet PO once a day  9  Toprol XL 50 mg Tablet Sustained Release 24HR Sig  Three  3  Tablet Sustained Release 24HR PO once a day  Disp  90 Tablet Sustained Release 24HR s   Refills  0  10  Warfarin 2 5 mg Tablet Sig  One  1  Tablet PO HS  at bedtime   Disp  14 Tablet s   Refills  0  11  Outpatient Lab Work Please have you INR check blood test on    2124 9 15       Discharge Disposition  Home With Service  Facility     Location  un  86    VNA  Discharge Diagnosis  Atrial fibrillation CHF exacerbation   Discharge Condition  good   Discharge Instructions  Please take all medicines as directed below  Please weigh yourself daily and call your doctor if your weight increases by more than 3 lbs  Restrict your fluid intake to less than 1 5 L daily   Followup Instructions  Provider    Name9  PRE  640       Name8  MD       MD Where     Hospital6 29       Hospital     Phone    Telephone Fax  1  250    Date Time    2124 9 15    2 00  Provider    First Name11  Name Pattern1         Last Name  NamePattern4  1013     M D  Where     Hospital6 29    CARDIAC SERVICES Phone    Telephone Fax  1  127    Date Time    2124 9 21    2 45   Electrophysiology Device Clinic     Hospital6 29    CARDIAC SERVICES  1 30 pm    2124 9 21       Provider    Name9  PRE      FERN     Name9  PRE  280    Where     Hospital6 29       Hospital     Phone    Telephone Fax  1  250    Date Time    2124 10 4    10 20    \",\n{\n            'v': 0,\n            'f': \"0\",\n        }],\n [{\n            'v': 4,\n            'f': \"4\",\n        },\n\"Admission Date      2128 1 5          Discharge Date      2128 1 11     Date of Birth       2128 1 5          Sex   M  Service   NEONATOLOGY  HISTORY   Baby    Name  NI         Known lastname 20802    is a 36 week gestation   Baby    Name  NI         Known lastname 20802    is the 2890 gram product of a 36 week gestation born to a 31 year old G3  P1 now 2 mother   Prenatal screen A   AB   Hepatitis surface antigen negative   RPR nonreactive  Rubella immune  GBS positive   Antepartum history  question of placenta previa   Antepartum history adequate maternal antibiotic coverage  received three doses  no maternal fever  no fetal tachycardia  rupture of membranes less than 24 hours prior to delivery   Infant was born by spontaneous vaginal delivery  precipitous delivery  bulb suction  tactile stimulation  blow by O2 after delivery   Apgars were assigned as 8 and 8   Neonatology was called to Delivery Room at approximately 30 minutes of age for infant with decreased tone and grunting  flaring and retracting   Infant was transferred to Newborn Intensive Care Unit for further evaluation of the respiratory status   PHYSICAL EXAMINATION   On admission  weight was 2890  75  percentile for gestational age   Length was 51 cm  98  percentile for gestational age   Head circumference is 31 5 cm  25 to 50th percentile for gestational age   Infant was alert   Anterior fontanelle were open  flat  molding present  tone slightly decreased  facial droop present  palate intact  positive red reflex bilaterally   Breath sounds clear and equal with gold aeration  mild subcostal retractions  intermittent grunting especially with agitation  nasal flaring present  no audible murmur  pulses 2   pink  capillary refill less than 3 seconds  normal S1  S2   Abdomen is soft  nondistended with active bowel sounds  no hepatosplenomegaly  no masses  three vessel cord   Testes descending bilaterally   No dimple   Anus patent   Hips patent   Clavicles intact   HOSPITAL COURSE   Respiratory   Continued to have increasing retracting in grunting requiring O2   It was decided to place him on C PAP and 6 cm of water   He remained on C PAP for a total of 24 hours   Transition to nasal cannula where he remained for three days and then transitioned to room air where he has been stable without incident since    1 9     He has had no episodes of apnea and bradycardia prematurity  Cardiovascular has been stable throughout hospital course with no issues   Fluid electrolyte   Birth weight was 2890   Infant was initially started on 80 cc kilo of D10W  enteral feedings were initiated on day of life  1  infant is currently taking ad lib amounts of breast milk or Enfamil 20   Discharge weight was 2630   GI   Bilirubin peaked on day of life  5 of 16 8   Infant was started on single photo therapy  Phototherapy was discontinued on    1 11      Rebound bilirubin was 13 3 0 4   Discharge home with follow up with pediatrician   Hematocrit on admission was 60 9  blood type was A   direct Coombs negative   Infectious Disease   CBC and blood cultures obtained on admission   CBC was benign   Blood cultures remained negative   Antibiotics were discontinued at 48 hours of age  The infant received Ampicillin and Gentamycin    Sensory  Audiology screen was performed with automated brain stem responses and the infant passed both ears   Psychosocial  Parents have been involved with this patient s care during the hospital course   CONDITION ON DISCHARGE   Stable   DISCHARGE DISPOSITION   To home   PRIMARY PEDIATRICIAN      First Name8  NamePattern2         Last Name  NamePattern1  3050     M D      Hospital 1887    Pediatrics  telephone number    Telephone Fax  1  37518     fax    Telephone Fax  1  37519      RECOMMENDATION   Continue ad lib breast feedings with Enfamil supplementation as required   MEDICATIONS   Not applicable   Car seat position screening  Infant placed in car seat and passed a 90 minute evaluation  State newborn screen has been sent per protocol and is within normal limits   IMMUNIZATIONS   Infant received Hepatitis B vaccine on    2128 1 11      Immunizations were recommended   RSV prophylaxis should be considered from    Month  only  359    through    Month  only  547    for infants who meet any of the following three criteria  1   Born at less than 32 weeks  2   Born between 32 and 35 weeks with plans for day care during RSV season with a smoker in the household or with preschool siblings  3   Chronic lung disease   Influenza vaccinations should be considered annually in the Fall for preterm infants with chronic lung disease once they reach 6 months of age   Before this age  the family and care givers should be considered for immunization for influenza to protect the infant   DISCHARGE DIAGNOSES   36 week male  mild respiratory distress syndrome  rule out sepsis with antibiotics  mild hyperbilirubinemia                                     First Name11  Name Pattern1         Last Name  NamePattern1  36142     M D      MD Number 1  36143     Dictated By    Last Name  NamePattern1  37156    MEDQUIST36  D      2128 1 11     21 02 T      2128 1 11     21 40 JOB       Job Number 39051    \",\n{\n            'v': 0,\n            'f': \"0\",\n        }]],\n        columns: [[\"number\", \"index\"], [\"string\", \"text_new\"], [\"number\", \"readmitted\"]],\n        columnOptions: [{\"width\": \"1px\", \"className\": \"index_column\"}],\n        rowsPerPage: 25,\n        helpUrl: \"https://colab.research.google.com/notebooks/data_table.ipynb\",\n        suppressOutputScrolling: true,\n        minimumWidth: undefined,\n      });\n    ",
            "text/html": [
              "<div>\n",
              "<style scoped>\n",
              "    .dataframe tbody tr th:only-of-type {\n",
              "        vertical-align: middle;\n",
              "    }\n",
              "\n",
              "    .dataframe tbody tr th {\n",
              "        vertical-align: top;\n",
              "    }\n",
              "\n",
              "    .dataframe thead th {\n",
              "        text-align: right;\n",
              "    }\n",
              "</style>\n",
              "<table border=\"1\" class=\"dataframe\">\n",
              "  <thead>\n",
              "    <tr style=\"text-align: right;\">\n",
              "      <th></th>\n",
              "      <th>text_new</th>\n",
              "      <th>readmitted</th>\n",
              "    </tr>\n",
              "  </thead>\n",
              "  <tbody>\n",
              "    <tr>\n",
              "      <th>0</th>\n",
              "      <td>Admission Date      2170 4 4        Discharge ...</td>\n",
              "      <td>0</td>\n",
              "    </tr>\n",
              "    <tr>\n",
              "      <th>1</th>\n",
              "      <td>Admission Date     2139 7 26           Dischar...</td>\n",
              "      <td>0</td>\n",
              "    </tr>\n",
              "    <tr>\n",
              "      <th>2</th>\n",
              "      <td>Admission Date      2139 7 26                 ...</td>\n",
              "      <td>0</td>\n",
              "    </tr>\n",
              "    <tr>\n",
              "      <th>3</th>\n",
              "      <td>Admission Date      2124 8 28                 ...</td>\n",
              "      <td>0</td>\n",
              "    </tr>\n",
              "    <tr>\n",
              "      <th>4</th>\n",
              "      <td>Admission Date      2128 1 5          Discharg...</td>\n",
              "      <td>0</td>\n",
              "    </tr>\n",
              "  </tbody>\n",
              "</table>\n",
              "</div>"
            ],
            "text/plain": [
              "                                            text_new  readmitted\n",
              "0  Admission Date      2170 4 4        Discharge ...           0\n",
              "1  Admission Date     2139 7 26           Dischar...           0\n",
              "2  Admission Date      2139 7 26                 ...           0\n",
              "3  Admission Date      2124 8 28                 ...           0\n",
              "4  Admission Date      2128 1 5          Discharg...           0"
            ]
          },
          "execution_count": 10,
          "metadata": {},
          "output_type": "execute_result"
        }
      ],
      "source": [
        "df.head()"
      ]
    },
    {
      "cell_type": "code",
      "execution_count": null,
      "metadata": {
        "colab": {
          "base_uri": "https://localhost:8080/",
          "height": 76,
          "resources": {
            "http://localhost:8080/nbextensions/google.colab/files.js": {
              "data": "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",
              "headers": [
                [
                  "content-type",
                  "application/javascript"
                ]
              ],
              "ok": true,
              "status": 200,
              "status_text": "OK"
            }
          }
        },
        "id": "SMbN-Me2F7uU",
        "outputId": "c6e8e613-b78a-4775-e011-c5cf47fc708a"
      },
      "outputs": [
        {
          "data": {
            "text/html": [
              "\n",
              "     <input type=\"file\" id=\"files-f83a4502-f24c-4f61-8490-d39655d20f5a\" name=\"files[]\" multiple disabled\n",
              "        style=\"border:none\" />\n",
              "     <output id=\"result-f83a4502-f24c-4f61-8490-d39655d20f5a\">\n",
              "      Upload widget is only available when the cell has been executed in the\n",
              "      current browser session. Please rerun this cell to enable.\n",
              "      </output>\n",
              "      <script src=\"/nbextensions/google.colab/files.js\"></script> "
            ],
            "text/plain": [
              "<IPython.core.display.HTML object>"
            ]
          },
          "metadata": {},
          "output_type": "display_data"
        },
        {
          "name": "stdout",
          "output_type": "stream",
          "text": [
            "Saving spark_nlp_for_healthcare_spark_ocr_3270.json to spark_nlp_for_healthcare_spark_ocr_3270 (1).json\n"
          ]
        }
      ],
      "source": [
        "# For this step, you need a free trial of the John Snow Labs version (spark-nlp-jsl)\n",
        "# of Spark NLP. While much of Spark NLP is open source, many of the healthcare-specific\n",
        "# models are only accessible via spark-nlp-jsl. Sign up for an account and free trial\n",
        "# at https://www.johnsnowlabs.com/. Step by step instructions found in the README.md\n",
        "import json\n",
        "import os\n",
        "\n",
        "from google.colab import files\n",
        "\n",
        "license_keys = files.upload()\n",
        "\n",
        "with open(list(license_keys.keys())[0]) as f:\n",
        "    license_keys = json.load(f)\n",
        "\n",
        "# Defining license key-value pairs as local variables\n",
        "locals().update(license_keys)\n",
        "\n",
        "# Adding license key-value pairs to environment variables\n",
        "os.environ.update(license_keys)"
      ]
    },
    {
      "cell_type": "code",
      "execution_count": null,
      "metadata": {
        "colab": {
          "base_uri": "https://localhost:8080/"
        },
        "id": "Olw0aptQ0xkx",
        "outputId": "c8ac7506-697b-49f4-fba8-126ed71f6a9c"
      },
      "outputs": [
        {
          "name": "stdout",
          "output_type": "stream",
          "text": [
            "\u001b[31mERROR: pip's dependency resolver does not currently take into account all the packages that are installed. This behaviour is the source of the following dependency conflicts.\n",
            "spark-nlp-jsl 3.3.2 requires spark-nlp==3.3.2, but you have spark-nlp 3.2.1 which is incompatible.\u001b[0m\n"
          ]
        }
      ],
      "source": [
        "# Installing pyspark and spark-nlp\n",
        "! pip install --upgrade -q pyspark==3.1.2 spark-nlp==$PUBLIC_VERSION\n",
        "\n",
        "# Installing Spark NLP Healthcare\n",
        "! pip install --upgrade -q spark-nlp-jsl==$JSL_VERSION  --extra-index-url https://pypi.johnsnowlabs.com/$SECRET\n",
        "\n",
        "# Installing Spark NLP Display Library for visualization\n",
        "! pip install -q spark-nlp-display"
      ]
    },
    {
      "cell_type": "code",
      "execution_count": null,
      "metadata": {
        "colab": {
          "base_uri": "https://localhost:8080/",
          "height": 259
        },
        "id": "TamYuRE38xHi",
        "outputId": "c8b939a2-2ddc-4c47-d90f-2fe569406ea7"
      },
      "outputs": [
        {
          "name": "stdout",
          "output_type": "stream",
          "text": [
            "Spark NLP Version : 3.3.2\n",
            "Spark NLP_JSL Version : 3.3.2\n"
          ]
        },
        {
          "data": {
            "text/html": [
              "\n",
              "            <div>\n",
              "                <p><b>SparkSession - in-memory</b></p>\n",
              "                \n",
              "        <div>\n",
              "            <p><b>SparkContext</b></p>\n",
              "\n",
              "            <p><a href=\"http://7dfe1ec9b660:4040\">Spark UI</a></p>\n",
              "\n",
              "            <dl>\n",
              "              <dt>Version</dt>\n",
              "                <dd><code>v3.1.2</code></dd>\n",
              "              <dt>Master</dt>\n",
              "                <dd><code>local[*]</code></dd>\n",
              "              <dt>AppName</dt>\n",
              "                <dd><code>Spark NLP Licensed</code></dd>\n",
              "            </dl>\n",
              "        </div>\n",
              "        \n",
              "            </div>\n",
              "        "
            ],
            "text/plain": [
              "<pyspark.sql.session.SparkSession at 0x7fccd4ddd610>"
            ]
          },
          "execution_count": 13,
          "metadata": {},
          "output_type": "execute_result"
        }
      ],
      "source": [
        "import json\n",
        "import os\n",
        "from pyspark.ml import Pipeline,PipelineModel\n",
        "from pyspark.sql import SparkSession\n",
        "from pyspark.sql import functions as F\n",
        "\n",
        "from sparknlp.annotator import *\n",
        "from sparknlp_jsl.annotator import *\n",
        "from sparknlp.base import *\n",
        "import sparknlp_jsl\n",
        "import sparknlp\n",
        "\n",
        "import warnings\n",
        "warnings.filterwarnings('ignore')\n",
        "\n",
        "params = {\"spark.driver.memory\":\"16G\", \n",
        "          \"spark.kryoserializer.buffer.max\":\"2000M\", \n",
        "          \"spark.driver.maxResultSize\":\"2000M\"} \n",
        "\n",
        "print (\"Spark NLP Version :\", sparknlp.version())\n",
        "print (\"Spark NLP_JSL Version :\", sparknlp_jsl.version())\n",
        "\n",
        "spark = sparknlp_jsl.start(license_keys['SECRET'],params=params)\n",
        "\n",
        "spark"
      ]
    },
    {
      "cell_type": "code",
      "execution_count": null,
      "metadata": {
        "id": "5IV8nmXXNqOO"
      },
      "outputs": [],
      "source": [
        "from pyspark.sql.types import StructType,StructField, StringType, IntegerType\n",
        "#Create User defined Custom Schema using StructType\n",
        "mySchema = StructType([StructField(\"index\", IntegerType(), True)\\\n",
        "                       ,StructField(\"text_new\", StringType(), True)\\\n",
        "                       ,StructField(\"readmitted\", IntegerType(), True)])\n",
        "\n",
        "spark_df = spark.createDataFrame(df.reset_index(), schema=mySchema)"
      ]
    },
    {
      "cell_type": "code",
      "execution_count": null,
      "metadata": {
        "colab": {
          "base_uri": "https://localhost:8080/"
        },
        "id": "ZHGZfx4XDqaH",
        "outputId": "0994fef2-09fd-4733-9aa9-97e517bce977"
      },
      "outputs": [
        {
          "name": "stdout",
          "output_type": "stream",
          "text": [
            "root\n",
            " |-- index: integer (nullable = true)\n",
            " |-- text_new: string (nullable = true)\n",
            " |-- readmitted: integer (nullable = true)\n",
            "\n"
          ]
        }
      ],
      "source": [
        "spark_df.printSchema()"
      ]
    },
    {
      "cell_type": "code",
      "execution_count": null,
      "metadata": {
        "colab": {
          "base_uri": "https://localhost:8080/"
        },
        "id": "DeGWD4I8RbF7",
        "outputId": "5bf0ab84-1444-4ee9-84a6-ac3270dbfd70"
      },
      "outputs": [
        {
          "name": "stdout",
          "output_type": "stream",
          "text": [
            "+-----+--------------------+----------+\n",
            "|index|            text_new|readmitted|\n",
            "+-----+--------------------+----------+\n",
            "|    0|Admission Date   ...|         0|\n",
            "|    1|Admission Date   ...|         0|\n",
            "|    2|Admission Date   ...|         0|\n",
            "|    3|Admission Date   ...|         0|\n",
            "|    4|Admission Date   ...|         0|\n",
            "|    5|Admission Date   ...|         0|\n",
            "|    6|Admission Date   ...|         0|\n",
            "|    7|Admission Date   ...|         0|\n",
            "|    8|Admission Date   ...|         0|\n",
            "|    9|Admission Date   ...|         1|\n",
            "|   10|Admission Date   ...|         0|\n",
            "|   11|Admission Date   ...|         1|\n",
            "|   12|        Date     ...|         0|\n",
            "|   13|Admission Date   ...|         0|\n",
            "|   14|Admission Date   ...|         0|\n",
            "|   15|Admission Date   ...|         0|\n",
            "|   16|Admission Date   ...|         1|\n",
            "|   17|Admission Date   ...|         0|\n",
            "|   18|Admission Date   ...|         0|\n",
            "|   19|Admission Date   ...|         0|\n",
            "+-----+--------------------+----------+\n",
            "only showing top 20 rows\n",
            "\n"
          ]
        }
      ],
      "source": [
        "spark_df.show()"
      ]
    },
    {
      "cell_type": "code",
      "execution_count": null,
      "metadata": {
        "id": "5KBlnA-5decC"
      },
      "outputs": [],
      "source": [
        "train, test = spark_df.randomSplit([0.8, 0.2], seed=1234567)"
      ]
    },
    {
      "cell_type": "code",
      "execution_count": null,
      "metadata": {
        "colab": {
          "base_uri": "https://localhost:8080/"
        },
        "id": "yJmQfcREVQHh",
        "outputId": "aafca4dd-2e05-40a1-becb-c6149512efe9"
      },
      "outputs": [
        {
          "name": "stdout",
          "output_type": "stream",
          "text": [
            "root\n",
            " |-- index: integer (nullable = true)\n",
            " |-- text_new: string (nullable = true)\n",
            " |-- readmitted: integer (nullable = true)\n",
            "\n"
          ]
        }
      ],
      "source": [
        "train = train.withColumn(\"index\", train[\"index\"].cast(IntegerType()))\n",
        "train = train.withColumn(\"readmitted\", train[\"readmitted\"].cast(IntegerType()))\n",
        "train.printSchema()"
      ]
    },
    {
      "cell_type": "code",
      "execution_count": null,
      "metadata": {
        "colab": {
          "base_uri": "https://localhost:8080/"
        },
        "id": "NyDCpMj6WT5n",
        "outputId": "00038961-9175-4d47-abec-ca20a6891954"
      },
      "outputs": [
        {
          "name": "stdout",
          "output_type": "stream",
          "text": [
            "root\n",
            " |-- index: integer (nullable = true)\n",
            " |-- text_new: string (nullable = true)\n",
            " |-- readmitted: integer (nullable = true)\n",
            "\n"
          ]
        }
      ],
      "source": [
        "test = test.withColumn(\"index\", test[\"index\"].cast(IntegerType()))\n",
        "test = test.withColumn(\"readmitted\", test[\"readmitted\"].cast(IntegerType()))\n",
        "test.printSchema()"
      ]
    },
    {
      "cell_type": "code",
      "execution_count": null,
      "metadata": {
        "colab": {
          "background_save": true,
          "base_uri": "https://localhost:8080/"
        },
        "id": "dUz_ddOHlD19",
        "outputId": "e713e957-3f4d-4a0b-ae80-8612009dd756"
      },
      "outputs": [
        {
          "name": "stdout",
          "output_type": "stream",
          "text": [
            "biobert_pubmed_base_cased download started this may take some time.\n",
            "Approximate size to download 386.4 MB\n",
            "[OK!]\n"
          ]
        }
      ],
      "source": [
        "# Annotator that transforms a text column from dataframe into an Annotation ready for NLP\n",
        "documentAssembler = DocumentAssembler()\\\n",
        "      .setInputCol(\"text_new\")\\\n",
        "      .setOutputCol(\"sentence\")\\\n",
        "      .setCleanupMode(\"shrink_full\")\n",
        "\n",
        "# Tokenizer splits words in a relevant format for NLP\n",
        "tokenizer = Tokenizer()\\\n",
        "      .setInputCols([\"sentence\"])\\\n",
        "      .setOutputCol(\"token\")\n",
        "\n",
        "# Normalize inputs\n",
        "normalizer = Normalizer()\\\n",
        "  .setInputCols([\"token\"])\\\n",
        "  .setOutputCol(\"normalized\")\n",
        "\n",
        "# Remove stop words\n",
        "stopwords_cleaner = StopWordsCleaner()\\\n",
        "  .setInputCols(\"normalized\")\\\n",
        "  .setOutputCol(\"cleanTokens\")\n",
        "\n",
        "word_embeddings = WordEmbeddingsModel.pretrained(\"embeddings_clinical\",\"en\",\"clinical/models\")\\\n",
        "      .setInputCols([\"sentence\", \"cleanTokens\"])\\\n",
        "      .setOutputCol(\"embeddings\")\n",
        "\n",
        "# bert_embeddings = BertEmbeddings.pretrained(\"biobert_pubmed_base_cased\", \"en\")\\\n",
        "#     .setInputCols([\"sentence\", \"cleanTokens\"])\\\n",
        "#     .setOutputCol(\"embeddings\")\n",
        "\n",
        "embeddingsSentence = SentenceEmbeddings() \\\n",
        "      .setInputCols([\"sentence\", \"embeddings\"]) \\\n",
        "      .setOutputCol(\"sentence_embeddings\") \\\n",
        "      .setPoolingStrategy(\"AVERAGE\")\\\n",
        "      .setStorageRef('biobert_pubmed_base_cased')\n",
        "\n",
        "classsifierdl = ClassifierDLApproach()\\\n",
        "  .setInputCols(\"sentence_embeddings\")\\\n",
        "  .setOutputCol(\"class\")\\\n",
        "  .setLabelColumn(\"readmitted\")\\\n",
        "  .setMaxEpochs(10)\\\n",
        "  .setBatchSize(12)\n",
        "\n",
        "base_clf_pipeline = Pipeline(\n",
        "    stages=[documentAssembler, \n",
        "            tokenizer,\n",
        "            normalizer,\n",
        "            stopwords_cleaner,\n",
        "            word_embeddings,\n",
        "            # bert_embeddings,\n",
        "            embeddingsSentence,\n",
        "            classsifierdl])\n",
        "\n",
        "base_clf_model = base_clf_pipeline.fit(train)"
      ]
    },
    {
      "cell_type": "code",
      "execution_count": null,
      "metadata": {
        "id": "ri6VXgA0eeyH"
      },
      "outputs": [],
      "source": [
        "from sklearn.metrics import classification_report, accuracy_score, roc_auc_score, auc, precision_recall_curve\n",
        "\n",
        "df_results = base_clf_model.transform(test).select(\"readmitted\", \"text_new\", \"class.result\").toPandas()\n",
        "\n",
        "df_results[\"result\"] = df_results[\"result\"].apply(lambda x: int(x[0]))\n",
        "\n",
        "precision, recall, thresholds = precision_recall_curve(df_results.readmitted, df_results.result)\n",
        "\n",
        "print(classification_report(df_results.readmitted, df_results.result))\n",
        "print(accuracy_score(df_results.readmitted, df_results.result))\n",
        "print(roc_auc_score(df_results.readmitted, df_results.result))\n",
        "print(auc(recall, precision))"
      ]
    }
  ],
  "metadata": {
    "accelerator": "TPU",
    "colab": {
      "collapsed_sections": [],
      "machine_shape": "hm",
      "name": "BD4H_Word_Embeddings_Model.ipynb",
      "provenance": []
    },
    "kernelspec": {
      "display_name": "Python 3",
      "name": "python3"
    },
    "language_info": {
      "name": "python"
    }
  },
  "nbformat": 4,
  "nbformat_minor": 0
}
