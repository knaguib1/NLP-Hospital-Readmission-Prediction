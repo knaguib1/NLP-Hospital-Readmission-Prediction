{
  "nbformat": 4,
  "nbformat_minor": 0,
  "metadata": {
    "colab": {
      "name": "readmit_explainatory_analysis.ipynb",
      "provenance": [],
      "machine_shape": "hm",
      "collapsed_sections": [
        "IRQ_q6DCxAZm",
        "pkIWrVU3xMt9",
        "VT98G5A3xV-6",
        "WMF60AvaxcG9"
      ]
    },
    "kernelspec": {
      "display_name": "Python 3",
      "name": "python3"
    },
    "language_info": {
      "name": "python"
    }
  },
  "cells": [
    {
      "cell_type": "markdown",
      "source": [
        "## Please run this notebook in google colab"
      ],
      "metadata": {
        "id": "qzyOsUODyplp"
      }
    },
    {
      "cell_type": "markdown",
      "source": [
        "## Import packages, setup google bigquery environment and query the data"
      ],
      "metadata": {
        "id": "gTqK8p-_wp1z"
      }
    },
    {
      "cell_type": "code",
      "metadata": {
        "colab": {
          "base_uri": "https://localhost:8080/"
        },
        "id": "VTCuu9BDs-XJ",
        "outputId": "24a6321f-63e8-4bbf-c9bf-76bcb24e32d6"
      },
      "source": [
        "from google.colab import drive\n",
        "drive.mount('/content/drive')"
      ],
      "execution_count": null,
      "outputs": [
        {
          "output_type": "stream",
          "name": "stdout",
          "text": [
            "Mounted at /content/drive\n"
          ]
        }
      ]
    },
    {
      "cell_type": "code",
      "metadata": {
        "colab": {
          "base_uri": "https://localhost:8080/"
        },
        "id": "zoTKcYU8s_0t",
        "outputId": "f322e252-6a7e-433c-d88f-0c369d0e69b6"
      },
      "source": [
        "% cd //content/drive/MyDrive/cse6250"
      ],
      "execution_count": null,
      "outputs": [
        {
          "output_type": "stream",
          "name": "stdout",
          "text": [
            "/content/drive/MyDrive/cse6250\n"
          ]
        }
      ]
    },
    {
      "cell_type": "code",
      "metadata": {
        "id": "5K-UYcdYtIXG"
      },
      "source": [
        "import pandas as pd\n",
        "import numpy as np\n",
        "import matplotlib.pyplot as plt\n",
        "import math, os\n",
        "import seaborn as sns"
      ],
      "execution_count": null,
      "outputs": []
    },
    {
      "cell_type": "code",
      "source": [
        "!pip install seaborn --upgrade"
      ],
      "metadata": {
        "colab": {
          "base_uri": "https://localhost:8080/"
        },
        "id": "l6E1seyWmjgB",
        "outputId": "b42fc09c-f1e7-43da-dc77-402b0e285872"
      },
      "execution_count": null,
      "outputs": [
        {
          "output_type": "stream",
          "name": "stdout",
          "text": [
            "Requirement already satisfied: seaborn in /usr/local/lib/python3.7/dist-packages (0.11.2)\n",
            "Requirement already satisfied: pandas>=0.23 in /usr/local/lib/python3.7/dist-packages (from seaborn) (1.1.5)\n",
            "Requirement already satisfied: scipy>=1.0 in /usr/local/lib/python3.7/dist-packages (from seaborn) (1.4.1)\n",
            "Requirement already satisfied: matplotlib>=2.2 in /usr/local/lib/python3.7/dist-packages (from seaborn) (3.2.2)\n",
            "Requirement already satisfied: numpy>=1.15 in /usr/local/lib/python3.7/dist-packages (from seaborn) (1.19.5)\n",
            "Requirement already satisfied: pyparsing!=2.0.4,!=2.1.2,!=2.1.6,>=2.0.1 in /usr/local/lib/python3.7/dist-packages (from matplotlib>=2.2->seaborn) (3.0.6)\n",
            "Requirement already satisfied: python-dateutil>=2.1 in /usr/local/lib/python3.7/dist-packages (from matplotlib>=2.2->seaborn) (2.8.2)\n",
            "Requirement already satisfied: cycler>=0.10 in /usr/local/lib/python3.7/dist-packages (from matplotlib>=2.2->seaborn) (0.11.0)\n",
            "Requirement already satisfied: kiwisolver>=1.0.1 in /usr/local/lib/python3.7/dist-packages (from matplotlib>=2.2->seaborn) (1.3.2)\n",
            "Requirement already satisfied: pytz>=2017.2 in /usr/local/lib/python3.7/dist-packages (from pandas>=0.23->seaborn) (2018.9)\n",
            "Requirement already satisfied: six>=1.5 in /usr/local/lib/python3.7/dist-packages (from python-dateutil>=2.1->matplotlib>=2.2->seaborn) (1.15.0)\n"
          ]
        }
      ]
    },
    {
      "cell_type": "code",
      "metadata": {
        "colab": {
          "base_uri": "https://localhost:8080/"
        },
        "id": "ohAurDUZs_3W",
        "outputId": "28787d9b-b7c5-405d-e1fd-306fabd2e099"
      },
      "source": [
        "from google.colab import auth\n",
        "auth.authenticate_user()\n",
        "print('Authenticated')\n",
        "\n",
        "%load_ext google.colab.data_table\n",
        "# GCP proejct\n",
        "project_id = 'nlp-332020'\n",
        "project_number = '1054321893028'\n",
        "\n",
        "%env GCLOUD_PROJECT=project_id\n",
        "# authenticate colab notebook\n",
        "import sys\n",
        "if \"google.colab\" in sys.modules:\n",
        "    from google.colab import auth\n",
        "    auth.authenticate_user()\n",
        "\n",
        "from google.cloud import bigquery\n",
        "client = bigquery.Client(project=project_id)"
      ],
      "execution_count": null,
      "outputs": [
        {
          "name": "stdout",
          "output_type": "stream",
          "text": [
            "Authenticated\n",
            "env: GCLOUD_PROJECT=project_id\n"
          ]
        }
      ]
    },
    {
      "cell_type": "code",
      "metadata": {
        "id": "zLpaS7fStAZn"
      },
      "source": [
        "comb = client.query('''\n",
        "with adm as \n",
        "(SELECT\n",
        "SUBJECT_ID, HADM_ID, FIRST_ADMITTIME, ADMITTIME, DISCHTIME, DEATHTIME, ADMISSION_TYPE,\n",
        "      # GENDER,AGE,EXPIRE_FLAG\n",
        "  DURATION,\n",
        " case when NEXT_ADMITTIME is null then lead(NEXT_ADMITTIME) over (partition by SUBJECT_ID order by ADMITTIME) \n",
        "  else NEXT_ADMITTIME end as NEXT_ADMITTIME,\n",
        " case when NEXT_ADMISSION_TYPE  is null then lead(NEXT_ADMISSION_TYPE) over (partition by SUBJECT_ID order by ADMITTIME) \n",
        "  else NEXT_ADMISSION_TYPE  end as NEXT_ADMISSION_TYPE \n",
        "  from \n",
        "  (SELECT \n",
        "  SUBJECT_ID, HADM_ID, FIRST_ADMITTIME,ADMITTIME,DISCHTIME,DEATHTIME,ADMISSION_TYPE,\n",
        "      # GENDER,AGE,EXPIRE_FLAG\n",
        "  DURATION,\n",
        "--   NEXT_ADMITTIME,NEXT_ADMISSION_TYPE\n",
        "   case when NEXT_ADMISSION_TYPE = 'ELECTIVE' then null  \n",
        "  else NEXT_ADMISSION_TYPE end as NEXT_ADMISSION_TYPE,\n",
        " case when NEXT_ADMISSION_TYPE = 'ELECTIVE' then null  \n",
        "  else NEXT_ADMITTIME end as NEXT_ADMITTIME\n",
        "  FROM (\n",
        "      SELECT  \n",
        "    SUBJECT_ID, HADM_ID, FIRST_ADMITTIME,ADMITTIME,DISCHTIME,DEATHTIME,ADMISSION_TYPE,\n",
        "      # GENDER,AGE,EXPIRE_FLAG\n",
        "    lead(ADMITTIME) over (partition by SUBJECT_ID order by ADMITTIME) as NEXT_ADMITTIME,\n",
        "    lead(admission_type) over (partition by SUBJECT_ID order by ADMITTIME) as NEXT_ADMISSION_TYPE,\n",
        "    DATE_DIFF(dischtime, Admittime, DAY)  as DURATION\n",
        "\n",
        "  FROM\n",
        "  (select distinct \n",
        "    SUBJECT_ID, HADM_ID,FIRST_ADMITTIME,ADMITTIME,DISCHTIME,DEATHTIME,ADMISSION_TYPE,\n",
        "      # GENDER,AGE,EXPIRE_FLAG\n",
        "    from \n",
        "    `nlp-332020.readmission_dataset.cleaned_dataset`) a\n",
        "    ) b\n",
        "  ) c \n",
        "  WHERE admission_type!='NEWBORN' AND deathtime is null \n",
        "  ),\n",
        "    notes as (\n",
        "        SELECT\n",
        "   SUBJECT_ID, HADM_ID, CHARTDATE, TEXT\n",
        "   FROM\n",
        "   (\n",
        "  SELECT\n",
        "   SUBJECT_ID, HADM_ID, CHARTDATE, TEXT,  \n",
        "   row_number() over (partition by SUBJECT_ID, HADM_ID order by CHARTDATE DESC) as rk\n",
        "  FROM\n",
        "  (SELECT DISTINCT \n",
        "   SUBJECT_ID, HADM_ID,  CHARTDATE, TEXT\n",
        "   FROM \n",
        "    `nlp-332020.readmission_dataset.cleaned_dataset`\n",
        "    -- WHERE SUBJECT_ID IN (9, 13, 18)\n",
        "  ) tmp\n",
        ") tmp1\n",
        "WHERE rk=1\n",
        "    )\n",
        "\n",
        "    select adm.SUBJECT_ID, adm.HADM_ID,\n",
        "    #  GENDER,AGE,\n",
        "    FIRST_ADMITTIME,ADMITTIME,DISCHTIME,DEATHTIME,\n",
        "    ADMISSION_TYPE,\n",
        "    # EXPIRE_FLAG,\n",
        "  DURATION,\n",
        "   NEXT_ADMITTIME,NEXT_ADMISSION_TYPE,\n",
        "  DATE_DIFF( NEXT_ADMITTIME, DISCHTIME, DAY) as DAYS_NEXT_ADMIT,\n",
        "  case when DATE_DIFF( NEXT_ADMITTIME, DISCHTIME, DAY)<30 then 1 else 0 end as OUTPUT_LABEL,\n",
        "  TEXT\n",
        "   \n",
        "FROM adm\n",
        "LEFT JOIN notes\n",
        "on adm.SUBJECT_ID = notes.SUBJECT_ID\n",
        "AND adm.HADM_ID = notes.HADM_ID\n",
        "where TEXT is not null\n",
        "''').to_dataframe()"
      ],
      "execution_count": null,
      "outputs": []
    },
    {
      "cell_type": "code",
      "metadata": {
        "id": "rJ5iOKu0tIUl"
      },
      "source": [
        "print(comb.shape)"
      ],
      "execution_count": null,
      "outputs": []
    },
    {
      "cell_type": "code",
      "metadata": {
        "colab": {
          "base_uri": "https://localhost:8080/"
        },
        "id": "OsXTAq9KQ6jr",
        "outputId": "f7b9947b-4b2a-44e6-f136-a339f5363cf9"
      },
      "source": [
        "raw = pd.read_csv('all.csv') ## the large mimic file saved in google drive, which includes patient, icu stay, admission and event notes\n",
        "raw.columns"
      ],
      "execution_count": null,
      "outputs": [
        {
          "output_type": "execute_result",
          "data": {
            "text/plain": [
              "Index(['ROW_ID', 'SUBJECT_ID', 'GENDER', 'DOB', 'DOD', 'DOD_HOSP', 'DOD_SSN',\n",
              "       'EXPIRE_FLAG', 'hadm_id', 'icustay_id', 'intime', 'outtime', 'LOS',\n",
              "       'CHARTDATE', 'TEXT', 'age', 'first_admittime', 'Admittime', 'dischtime',\n",
              "       'deathtime', 'admission_type', 'insurance', 'religion',\n",
              "       'marital_status', 'ethnicity', 'edregtime', 'edouttime', 'diagnosis',\n",
              "       'hospital_expire_flag', 'has_chartevents_data', 'preiculos',\n",
              "       'hospital_expire_flag_1', 'ICUSTAY_AGE_GROUP', 'ICUSTAY_EXPIRE_FLAG'],\n",
              "      dtype='object')"
            ]
          },
          "metadata": {},
          "execution_count": 119
        }
      ]
    },
    {
      "cell_type": "code",
      "metadata": {
        "id": "xs4wD_npSZi4"
      },
      "source": [
        "col = [i.upper() for i in raw.columns]\n",
        "raw.columns = col"
      ],
      "execution_count": null,
      "outputs": []
    },
    {
      "cell_type": "code",
      "metadata": {
        "colab": {
          "base_uri": "https://localhost:8080/"
        },
        "id": "3PstFNPjSltt",
        "outputId": "765b0768-a1c6-478c-fe51-172a110c6d21"
      },
      "source": [
        "raw.columns"
      ],
      "execution_count": null,
      "outputs": [
        {
          "output_type": "execute_result",
          "data": {
            "text/plain": [
              "Index(['ROW_ID', 'SUBJECT_ID', 'GENDER', 'DOB', 'DOD', 'DOD_HOSP', 'DOD_SSN',\n",
              "       'EXPIRE_FLAG', 'HADM_ID', 'ICUSTAY_ID', 'INTIME', 'OUTTIME', 'LOS',\n",
              "       'CHARTDATE', 'TEXT', 'AGE', 'FIRST_ADMITTIME', 'ADMITTIME', 'DISCHTIME',\n",
              "       'DEATHTIME', 'ADMISSION_TYPE', 'INSURANCE', 'RELIGION',\n",
              "       'MARITAL_STATUS', 'ETHNICITY', 'EDREGTIME', 'EDOUTTIME', 'DIAGNOSIS',\n",
              "       'HOSPITAL_EXPIRE_FLAG', 'HAS_CHARTEVENTS_DATA', 'PREICULOS',\n",
              "       'HOSPITAL_EXPIRE_FLAG_1', 'ICUSTAY_AGE_GROUP', 'ICUSTAY_EXPIRE_FLAG'],\n",
              "      dtype='object')"
            ]
          },
          "metadata": {},
          "execution_count": 24
        }
      ]
    },
    {
      "cell_type": "code",
      "metadata": {
        "colab": {
          "base_uri": "https://localhost:8080/"
        },
        "id": "Ctcj-OmWRAMy",
        "outputId": "533ec123-f78f-48cb-cfdd-675722c386bc"
      },
      "source": [
        "raw['ADMISSION_TYPE'].value_counts(normalize=True)"
      ],
      "execution_count": null,
      "outputs": [
        {
          "output_type": "execute_result",
          "data": {
            "text/plain": [
              "EMERGENCY    0.774559\n",
              "ELECTIVE     0.132581\n",
              "NEWBORN      0.064875\n",
              "URGENT       0.027984\n",
              "Name: ADMISSION_TYPE, dtype: float64"
            ]
          },
          "metadata": {},
          "execution_count": 23
        }
      ]
    },
    {
      "cell_type": "code",
      "metadata": {
        "colab": {
          "base_uri": "https://localhost:8080/"
        },
        "id": "36e3TaGzSKLW",
        "outputId": "c4ed6042-a1b5-4b38-e8bf-1ecf4bd67bfa"
      },
      "source": [
        "raw['SUBJECT_ID'].nunique(), raw['HADM_ID'].nunique()"
      ],
      "execution_count": null,
      "outputs": [
        {
          "output_type": "execute_result",
          "data": {
            "text/plain": [
              "(41074, 51940)"
            ]
          },
          "metadata": {},
          "execution_count": 25
        }
      ]
    },
    {
      "cell_type": "code",
      "metadata": {
        "colab": {
          "base_uri": "https://localhost:8080/"
        },
        "id": "paFkwe9-S_FF",
        "outputId": "f132d0d2-4423-43ca-d000-13a2af609fc1"
      },
      "source": [
        "raw['TEXT'].nunique()"
      ],
      "execution_count": null,
      "outputs": [
        {
          "output_type": "execute_result",
          "data": {
            "text/plain": [
              "58600"
            ]
          },
          "metadata": {},
          "execution_count": 28
        }
      ]
    },
    {
      "cell_type": "code",
      "metadata": {
        "colab": {
          "base_uri": "https://localhost:8080/",
          "height": 176
        },
        "id": "cOBMvzBNRbW-",
        "outputId": "93683f7a-faf6-461b-de39-a4efe762276b"
      },
      "source": [
        "raw.groupby(['HOSPITAL_EXPIRE_FLAG'])['SUBJECT_ID','HADM_ID'].nunique()"
      ],
      "execution_count": null,
      "outputs": [
        {
          "output_type": "stream",
          "name": "stderr",
          "text": [
            "/usr/local/lib/python3.7/dist-packages/ipykernel_launcher.py:1: FutureWarning: Indexing with multiple keys (implicitly converted to a tuple of keys) will be deprecated, use a list instead.\n",
            "  \"\"\"Entry point for launching an IPython kernel.\n"
          ]
        },
        {
          "output_type": "execute_result",
          "data": {
            "text/html": [
              "<div>\n",
              "<style scoped>\n",
              "    .dataframe tbody tr th:only-of-type {\n",
              "        vertical-align: middle;\n",
              "    }\n",
              "\n",
              "    .dataframe tbody tr th {\n",
              "        vertical-align: top;\n",
              "    }\n",
              "\n",
              "    .dataframe thead th {\n",
              "        text-align: right;\n",
              "    }\n",
              "</style>\n",
              "<table border=\"1\" class=\"dataframe\">\n",
              "  <thead>\n",
              "    <tr style=\"text-align: right;\">\n",
              "      <th></th>\n",
              "      <th>SUBJECT_ID</th>\n",
              "      <th>HADM_ID</th>\n",
              "    </tr>\n",
              "    <tr>\n",
              "      <th>HOSPITAL_EXPIRE_FLAG</th>\n",
              "      <th></th>\n",
              "      <th></th>\n",
              "    </tr>\n",
              "  </thead>\n",
              "  <tbody>\n",
              "    <tr>\n",
              "      <th>0</th>\n",
              "      <td>37084</td>\n",
              "      <td>46682</td>\n",
              "    </tr>\n",
              "    <tr>\n",
              "      <th>1</th>\n",
              "      <td>5257</td>\n",
              "      <td>5258</td>\n",
              "    </tr>\n",
              "  </tbody>\n",
              "</table>\n",
              "</div>"
            ],
            "text/plain": [
              "                      SUBJECT_ID  HADM_ID\n",
              "HOSPITAL_EXPIRE_FLAG                     \n",
              "0                          37084    46682\n",
              "1                           5257     5258"
            ]
          },
          "metadata": {},
          "execution_count": 29
        }
      ]
    },
    {
      "cell_type": "markdown",
      "source": [
        "## Create binary target variable and explore its distribution"
      ],
      "metadata": {
        "id": "IRQ_q6DCxAZm"
      }
    },
    {
      "cell_type": "code",
      "metadata": {
        "colab": {
          "base_uri": "https://localhost:8080/"
        },
        "id": "LNv0D_Fqt_aO",
        "outputId": "391f3d7e-a613-4136-fefc-e64c1bbed6fc"
      },
      "source": [
        "# comb = pd.read_csv('comb.csv')\n",
        "# comb.columns"
      ],
      "execution_count": null,
      "outputs": [
        {
          "output_type": "execute_result",
          "data": {
            "text/plain": [
              "Index(['SUBJECT_ID', 'HADM_ID', 'FIRST_ADMITTIME', 'ADMITTIME', 'DISCHTIME',\n",
              "       'DEATHTIME', 'ADMISSION_TYPE', 'DURATION', 'NEXT_ADMITTIME',\n",
              "       'NEXT_ADMISSION_TYPE', 'DAYS_NEXT_ADMIT', 'OUTPUT_LABEL', 'TEXT'],\n",
              "      dtype='object')"
            ]
          },
          "metadata": {},
          "execution_count": 4
        }
      ]
    },
    {
      "cell_type": "code",
      "metadata": {
        "colab": {
          "base_uri": "https://localhost:8080/"
        },
        "id": "pFg80Y0GUvZb",
        "outputId": "b6e4f8af-6615-4e5b-ec96-c547852d6574"
      },
      "source": [
        "comb.DAYS_NEXT_ADMIT.describe()"
      ],
      "execution_count": null,
      "outputs": [
        {
          "output_type": "execute_result",
          "data": {
            "text/plain": [
              "count    10085.000000\n",
              "mean       408.666634\n",
              "std        633.748609\n",
              "min        -19.000000\n",
              "25%         26.000000\n",
              "50%        124.000000\n",
              "75%        507.000000\n",
              "max       4108.000000\n",
              "Name: DAYS_NEXT_ADMIT, dtype: float64"
            ]
          },
          "metadata": {},
          "execution_count": 5
        }
      ]
    },
    {
      "cell_type": "code",
      "metadata": {
        "id": "UI_F2hjlVNZo"
      },
      "source": [
        "comb['OUTPUT_LABEL_60'] = comb['DAYS_NEXT_ADMIT'].apply(lambda r: 1 if r<60 else 0)\n",
        "comb['OUTPUT_LABEL_90'] = comb['DAYS_NEXT_ADMIT'].apply(lambda r: 1 if r<90 else 0)\n",
        "comb['OUTPUT_LABEL_120'] = comb['DAYS_NEXT_ADMIT'].apply(lambda r: 1 if r<120 else 0)\n",
        "comb['OUTPUT_LABEL_180'] = comb['DAYS_NEXT_ADMIT'].apply(lambda r: 1 if r<180 else 0)"
      ],
      "execution_count": null,
      "outputs": []
    },
    {
      "cell_type": "code",
      "metadata": {
        "colab": {
          "base_uri": "https://localhost:8080/"
        },
        "id": "UV20Q65lP_8g",
        "outputId": "f3ee7036-4e44-4ab7-9888-925ee3977c56"
      },
      "source": [
        "comb['SUBJECT_ID'].nunique(), comb['HADM_ID'].nunique()"
      ],
      "execution_count": null,
      "outputs": [
        {
          "output_type": "execute_result",
          "data": {
            "text/plain": [
              "(33593, 43100)"
            ]
          },
          "metadata": {},
          "execution_count": 13
        }
      ]
    },
    {
      "cell_type": "code",
      "metadata": {
        "colab": {
          "base_uri": "https://localhost:8080/"
        },
        "id": "L0d50deKV-9n",
        "outputId": "64e1ace9-3e7e-4af3-9afb-8d50983b5add"
      },
      "source": [
        "comb['OUTPUT_LABEL'].value_counts(), comb['OUTPUT_LABEL_180'].value_counts()"
      ],
      "execution_count": null,
      "outputs": [
        {
          "output_type": "execute_result",
          "data": {
            "text/plain": [
              "(0    40379\n",
              " 1     2721\n",
              " Name: OUTPUT_LABEL, dtype: int64, 0    37400\n",
              " 1     5700\n",
              " Name: OUTPUT_LABEL_180, dtype: int64)"
            ]
          },
          "metadata": {},
          "execution_count": 8
        }
      ]
    },
    {
      "cell_type": "code",
      "source": [
        "x = comb[['OUTPUT_LABEL', 'OUTPUT_LABEL_180']]\n",
        "x.rename(columns={'OUTPUT_LABEL':'Re-admit within 30days', 'OUTPUT_LABEL_180':'Re-admit within 6months'}, inplace=True)"
      ],
      "metadata": {
        "colab": {
          "base_uri": "https://localhost:8080/"
        },
        "id": "m73iBeagUwJC",
        "outputId": "e251b684-9caa-4100-b137-08181b367868"
      },
      "execution_count": null,
      "outputs": [
        {
          "output_type": "stream",
          "name": "stderr",
          "text": [
            "/usr/local/lib/python3.7/dist-packages/pandas/core/frame.py:4308: SettingWithCopyWarning: \n",
            "A value is trying to be set on a copy of a slice from a DataFrame\n",
            "\n",
            "See the caveats in the documentation: https://pandas.pydata.org/pandas-docs/stable/user_guide/indexing.html#returning-a-view-versus-a-copy\n",
            "  errors=errors,\n"
          ]
        }
      ]
    },
    {
      "cell_type": "code",
      "source": [
        "x1 = x.apply(lambda x: x.value_counts()).T.stack().reset_index()\n",
        "x1.columns=['Target', 'Readmission_label', 'Count']\n",
        "x1['Readmission_label'] = x1['Readmission_label'].astype('str')"
      ],
      "metadata": {
        "id": "e07J8yjjUs7X"
      },
      "execution_count": null,
      "outputs": []
    },
    {
      "cell_type": "code",
      "source": [
        "fig, ax = plt.subplots(figsize=(5, 4))\n",
        "ax=sns.barplot(x='Target', y='Count', hue='Readmission_label', data=x1) \n",
        "ax.set_xlabel('Readmission time range')\n",
        "ax.set_ylabel('Admission count')\n",
        "# ax.legend()\n",
        "plt.tight_layout(pad=0.001)\n",
        "# plt.legend(bbox_to_anchor=(1.02, 1.02), loc='upper left', borderaxespad=0, title = 'Readmission_label')\n",
        "# plt.annotate('Admission count', xy=(x+0.2,y), xytext=(x+0.3, 300) )\n",
        "\n",
        "fig.savefig(\"label dist.png\", dpi=1200)"
      ],
      "metadata": {
        "colab": {
          "base_uri": "https://localhost:8080/",
          "height": 319
        },
        "id": "jL0JGe7_9e6v",
        "outputId": "8a87b940-a649-4c65-c0e3-2c1834840268"
      },
      "execution_count": null,
      "outputs": [
        {
          "output_type": "display_data",
          "data": {
            "image/png": "[encoded data removed]",
            "text/plain": [
              "<Figure size 360x288 with 1 Axes>"
            ]
          },
          "metadata": {
            "needs_background": "light"
          }
        }
      ]
    },
    {
      "cell_type": "markdown",
      "source": [
        "## Check ADMISSION_TYPE distribution"
      ],
      "metadata": {
        "id": "pkIWrVU3xMt9"
      }
    },
    {
      "cell_type": "code",
      "metadata": {
        "colab": {
          "base_uri": "https://localhost:8080/"
        },
        "id": "3QtEsWNoQO6e",
        "outputId": "63bf1a02-8d67-4617-dfb6-e3d785c3773a"
      },
      "source": [
        "comb['ADMISSION_TYPE'].value_counts(), comb['NEXT_ADMISSION_TYPE'].value_counts()"
      ],
      "execution_count": null,
      "outputs": [
        {
          "output_type": "execute_result",
          "data": {
            "text/plain": [
              "(EMERGENCY    35260\n",
              " ELECTIVE      6715\n",
              " URGENT        1125\n",
              " Name: ADMISSION_TYPE, dtype: int64, EMERGENCY    9941\n",
              " URGENT        144\n",
              " Name: NEXT_ADMISSION_TYPE, dtype: int64)"
            ]
          },
          "metadata": {},
          "execution_count": 9
        }
      ]
    },
    {
      "cell_type": "code",
      "metadata": {
        "colab": {
          "base_uri": "https://localhost:8080/"
        },
        "id": "FuAFBUp6WWcd",
        "outputId": "1037fd6a-1608-4167-9d22-dfb11a848691"
      },
      "source": [
        "comb.groupby(['ADMISSION_TYPE', 'NEXT_ADMISSION_TYPE'])['HADM_ID'].nunique()"
      ],
      "execution_count": null,
      "outputs": [
        {
          "output_type": "execute_result",
          "data": {
            "text/plain": [
              "ADMISSION_TYPE  NEXT_ADMISSION_TYPE\n",
              "ELECTIVE        EMERGENCY               956\n",
              "                URGENT                   27\n",
              "EMERGENCY       EMERGENCY              8767\n",
              "                URGENT                   95\n",
              "URGENT          EMERGENCY               218\n",
              "                URGENT                   22\n",
              "Name: HADM_ID, dtype: int64"
            ]
          },
          "metadata": {},
          "execution_count": 10
        }
      ]
    },
    {
      "cell_type": "code",
      "metadata": {
        "colab": {
          "base_uri": "https://localhost:8080/",
          "height": 237
        },
        "id": "Hg2G7Z0OavQQ",
        "outputId": "78219f65-f938-488c-907f-872a2c62b5bf"
      },
      "source": [
        "fig, ax = plt.subplots(figsize=(4,3))\n",
        "# ax.set_title(\"Fig1: Consecutive Admission Distribution\")\n",
        "ax = sns.heatmap(pd.crosstab(comb['ADMISSION_TYPE'], comb['NEXT_ADMISSION_TYPE']), annot=True, fmt='d');\n",
        "ax.set_ylabel('Current admission type')\n",
        "ax.set_xlabel('Next admission type')\n",
        "plt.yticks(rotation=90)\n",
        "plt.tight_layout(0.5)\n",
        "fig.savefig(\"consecutive_admission_dist1.png\", dpi=1200)"
      ],
      "execution_count": null,
      "outputs": [
        {
          "output_type": "display_data",
          "data": {
            "image/png": "[encoded data removed]",
            "text/plain": [
              "<Figure size 288x216 with 2 Axes>"
            ]
          },
          "metadata": {
            "needs_background": "light"
          }
        }
      ]
    },
    {
      "cell_type": "markdown",
      "source": [
        "## Check note and its length distribution"
      ],
      "metadata": {
        "id": "VT98G5A3xV-6"
      }
    },
    {
      "cell_type": "code",
      "metadata": {
        "colab": {
          "base_uri": "https://localhost:8080/"
        },
        "id": "zmAZTzlDxk6H",
        "outputId": "c9d384e2-589b-44fb-bc07-207e23d71b13"
      },
      "source": [
        "comb['note_len'] = comb['TEXT'].apply(lambda r: len(r))\n",
        "comb['note_len'].describe()"
      ],
      "execution_count": null,
      "outputs": [
        {
          "output_type": "execute_result",
          "data": {
            "text/plain": [
              "count    43100.000000\n",
              "mean     10534.514084\n",
              "std       5566.894438\n",
              "min         54.000000\n",
              "25%       6805.000000\n",
              "50%       9851.000000\n",
              "75%      13513.000000\n",
              "max      53330.000000\n",
              "Name: note_len, dtype: float64"
            ]
          },
          "metadata": {},
          "execution_count": 16
        }
      ]
    },
    {
      "cell_type": "code",
      "metadata": {
        "colab": {
          "base_uri": "https://localhost:8080/",
          "height": 143
        },
        "id": "rSm9RltFyMS1",
        "outputId": "ecd61bce-dbe4-4b65-8e7a-a347a65b81e9"
      },
      "source": [
        "comb.groupby(['OUTPUT_LABEL']).agg({'note_len': ['min', 'max', 'mean']}).reset_index()"
      ],
      "execution_count": null,
      "outputs": [
        {
          "output_type": "execute_result",
          "data": {
            "text/html": [
              "<div>\n",
              "<style scoped>\n",
              "    .dataframe tbody tr th:only-of-type {\n",
              "        vertical-align: middle;\n",
              "    }\n",
              "\n",
              "    .dataframe tbody tr th {\n",
              "        vertical-align: top;\n",
              "    }\n",
              "\n",
              "    .dataframe thead tr th {\n",
              "        text-align: left;\n",
              "    }\n",
              "</style>\n",
              "<table border=\"1\" class=\"dataframe\">\n",
              "  <thead>\n",
              "    <tr>\n",
              "      <th></th>\n",
              "      <th>OUTPUT_LABEL</th>\n",
              "      <th colspan=\"3\" halign=\"left\">note_len</th>\n",
              "    </tr>\n",
              "    <tr>\n",
              "      <th></th>\n",
              "      <th></th>\n",
              "      <th>min</th>\n",
              "      <th>max</th>\n",
              "      <th>mean</th>\n",
              "    </tr>\n",
              "  </thead>\n",
              "  <tbody>\n",
              "    <tr>\n",
              "      <th>0</th>\n",
              "      <td>0</td>\n",
              "      <td>54</td>\n",
              "      <td>53330</td>\n",
              "      <td>10417.138067</td>\n",
              "    </tr>\n",
              "    <tr>\n",
              "      <th>1</th>\n",
              "      <td>1</td>\n",
              "      <td>612</td>\n",
              "      <td>53169</td>\n",
              "      <td>12276.346564</td>\n",
              "    </tr>\n",
              "  </tbody>\n",
              "</table>\n",
              "</div>"
            ],
            "text/plain": [
              "  OUTPUT_LABEL note_len                     \n",
              "                    min    max          mean\n",
              "0            0       54  53330  10417.138067\n",
              "1            1      612  53169  12276.346564"
            ]
          },
          "metadata": {},
          "execution_count": 17
        }
      ]
    },
    {
      "cell_type": "code",
      "metadata": {
        "colab": {
          "base_uri": "https://localhost:8080/"
        },
        "id": "KH_kR4CwU7cD",
        "outputId": "acdf6345-bb9e-4a63-e2fb-4ad3d30a8fb5"
      },
      "source": [
        "notecnt = raw.groupby(['SUBJECT_ID', 'HADM_ID'])['TEXT'].size().reset_index(name='notecnt')\n",
        "notecnt.notecnt.describe()"
      ],
      "execution_count": null,
      "outputs": [
        {
          "output_type": "execute_result",
          "data": {
            "text/plain": [
              "count    51940.000000\n",
              "mean         1.217058\n",
              "std          0.678615\n",
              "min          1.000000\n",
              "25%          1.000000\n",
              "50%          1.000000\n",
              "75%          1.000000\n",
              "max         42.000000\n",
              "Name: notecnt, dtype: float64"
            ]
          },
          "metadata": {},
          "execution_count": 76
        }
      ]
    },
    {
      "cell_type": "code",
      "metadata": {
        "colab": {
          "base_uri": "https://localhost:8080/"
        },
        "id": "LMWIdoPSVa6V",
        "outputId": "2b75f680-dd7b-42e7-bf6a-beef14e06a69"
      },
      "source": [
        "len(notecnt[notecnt.notecnt>1])/len(raw)"
      ],
      "execution_count": null,
      "outputs": [
        {
          "output_type": "execute_result",
          "data": {
            "text/plain": [
              "0.1300503053121144"
            ]
          },
          "metadata": {},
          "execution_count": 78
        }
      ]
    },
    {
      "cell_type": "code",
      "metadata": {
        "colab": {
          "base_uri": "https://localhost:8080/",
          "height": 247
        },
        "id": "mLOGRtfYQO0B",
        "outputId": "86803986-d4c1-4ec3-819e-e3c3c5e31815"
      },
      "source": [
        "fig, ax = plt.subplots(figsize=(4,3))\n",
        "# ax.set_title(\"Fig2: Note Length vs. Readmission within 30 days\")\n",
        "ax = sns.boxplot(x='OUTPUT_LABEL', y='note_len', data = comb)\n",
        "ax.set_xlabel('Readmission within 30 days\\n(0: no readmission, 1: have readmission)')\n",
        "ax.set_ylabel('Note length')\n",
        "plt.tight_layout(0.0001)\n",
        "# ax.legend(['0: no readmission', '1: have readmission'], bbox_to_anchor=(0.09, -0.02))\n",
        "fig.savefig(\"notelength_dist.png\", dpi=1200)"
      ],
      "execution_count": null,
      "outputs": [
        {
          "output_type": "display_data",
          "data": {
            "image/png": "[encoded data removed]",
            "text/plain": [
              "<Figure size 288x216 with 1 Axes>"
            ]
          },
          "metadata": {
            "needs_background": "light"
          }
        }
      ]
    },
    {
      "cell_type": "code",
      "source": [
        "g=sns.FacetGrid(comb, hue='OUTPUT_LABEL', height=3, aspect=1.5)\n",
        "g.map(sns.kdeplot, 'note_len', shade=True)\n",
        "ax.set_xlabel('Note length')\n",
        "plt.legend(loc='upper right', title='Readmission within 30 days')\n",
        "plt.tight_layout(0.0001)\n",
        "# plt.savefig(\"age_dist.png\", dpi=1200)"
      ],
      "metadata": {
        "colab": {
          "base_uri": "https://localhost:8080/",
          "height": 247
        },
        "id": "NASX7WMcsFnQ",
        "outputId": "8ec7a53c-2c3c-4e1f-f862-60e776966fa9"
      },
      "execution_count": null,
      "outputs": [
        {
          "output_type": "display_data",
          "data": {
            "image/png": "[encoded data removed]",
            "text/plain": [
              "<Figure size 324x216 with 1 Axes>"
            ]
          },
          "metadata": {
            "needs_background": "light"
          }
        }
      ]
    },
    {
      "cell_type": "code",
      "metadata": {
        "colab": {
          "base_uri": "https://localhost:8080/",
          "height": 369
        },
        "id": "28Kyn43CQ9Eb",
        "outputId": "5872dafd-df2d-428d-eb10-d6b42390ff91"
      },
      "source": [
        "fig, ax = plt.subplots(figsize=(5,5))\n",
        "ax.set_title(\"Fig3: Note Length vs. Readmission within 6 months\")\n",
        "ax = sns.boxplot(x='OUTPUT_LABEL_180', y='note_len', data = comb)\n",
        "plt.tight_layout()\n",
        "fig.savefig(\"notelength_dist180.png\", dpi=600)"
      ],
      "execution_count": null,
      "outputs": [
        {
          "output_type": "display_data",
          "data": {
            "image/png": "[encoded data removed]",
            "text/plain": [
              "<Figure size 360x360 with 1 Axes>"
            ]
          },
          "metadata": {
            "needs_background": "light"
          }
        }
      ]
    },
    {
      "cell_type": "markdown",
      "source": [
        "## Merge with demo data and check age and gender distribution btw different target group"
      ],
      "metadata": {
        "id": "WMF60AvaxcG9"
      }
    },
    {
      "cell_type": "code",
      "metadata": {
        "colab": {
          "base_uri": "https://localhost:8080/",
          "height": 224
        },
        "id": "CcuqZf0oS_g6",
        "outputId": "b6f31de9-fba6-4a95-c6af-b9004ab5a4d0"
      },
      "source": [
        "## get age, gender, los, 'MARITAL_STATUS', 'ETHNICITY', 'EDREGTIME', 'EDOUTTIME', 'DIAGNOSIS'\n",
        "demo = raw[['SUBJECT_ID', 'HADM_ID','AGE','GENDER', 'LOS','MARITAL_STATUS', 'ETHNICITY','ICUSTAY_AGE_GROUP', 'ICUSTAY_EXPIRE_FLAG']].drop_duplicates()\n",
        "print(demo.shape)\n",
        "demo.head()"
      ],
      "execution_count": null,
      "outputs": [
        {
          "output_type": "stream",
          "name": "stdout",
          "text": [
            "(55588, 9)\n"
          ]
        },
        {
          "output_type": "execute_result",
          "data": {
            "text/html": [
              "<div>\n",
              "<style scoped>\n",
              "    .dataframe tbody tr th:only-of-type {\n",
              "        vertical-align: middle;\n",
              "    }\n",
              "\n",
              "    .dataframe tbody tr th {\n",
              "        vertical-align: top;\n",
              "    }\n",
              "\n",
              "    .dataframe thead th {\n",
              "        text-align: right;\n",
              "    }\n",
              "</style>\n",
              "<table border=\"1\" class=\"dataframe\">\n",
              "  <thead>\n",
              "    <tr style=\"text-align: right;\">\n",
              "      <th></th>\n",
              "      <th>SUBJECT_ID</th>\n",
              "      <th>HADM_ID</th>\n",
              "      <th>AGE</th>\n",
              "      <th>GENDER</th>\n",
              "      <th>LOS</th>\n",
              "      <th>MARITAL_STATUS</th>\n",
              "      <th>ETHNICITY</th>\n",
              "      <th>ICUSTAY_AGE_GROUP</th>\n",
              "      <th>ICUSTAY_EXPIRE_FLAG</th>\n",
              "    </tr>\n",
              "  </thead>\n",
              "  <tbody>\n",
              "    <tr>\n",
              "      <th>0</th>\n",
              "      <td>624</td>\n",
              "      <td>120063</td>\n",
              "      <td>78</td>\n",
              "      <td>F</td>\n",
              "      <td>1.6020</td>\n",
              "      <td>MARRIED</td>\n",
              "      <td>WHITE</td>\n",
              "      <td>adult</td>\n",
              "      <td>N</td>\n",
              "    </tr>\n",
              "    <tr>\n",
              "      <th>1</th>\n",
              "      <td>697</td>\n",
              "      <td>162458</td>\n",
              "      <td>26</td>\n",
              "      <td>M</td>\n",
              "      <td>2.2348</td>\n",
              "      <td>SINGLE</td>\n",
              "      <td>WHITE</td>\n",
              "      <td>adult</td>\n",
              "      <td>N</td>\n",
              "    </tr>\n",
              "    <tr>\n",
              "      <th>2</th>\n",
              "      <td>948</td>\n",
              "      <td>107027</td>\n",
              "      <td>29</td>\n",
              "      <td>F</td>\n",
              "      <td>2.5069</td>\n",
              "      <td>MARRIED</td>\n",
              "      <td>WHITE</td>\n",
              "      <td>adult</td>\n",
              "      <td>N</td>\n",
              "    </tr>\n",
              "    <tr>\n",
              "      <th>3</th>\n",
              "      <td>948</td>\n",
              "      <td>142734</td>\n",
              "      <td>29</td>\n",
              "      <td>F</td>\n",
              "      <td>1.2674</td>\n",
              "      <td>MARRIED</td>\n",
              "      <td>WHITE</td>\n",
              "      <td>adult</td>\n",
              "      <td>N</td>\n",
              "    </tr>\n",
              "    <tr>\n",
              "      <th>4</th>\n",
              "      <td>948</td>\n",
              "      <td>125857</td>\n",
              "      <td>39</td>\n",
              "      <td>F</td>\n",
              "      <td>1.1646</td>\n",
              "      <td>MARRIED</td>\n",
              "      <td>WHITE</td>\n",
              "      <td>adult</td>\n",
              "      <td>N</td>\n",
              "    </tr>\n",
              "  </tbody>\n",
              "</table>\n",
              "</div>"
            ],
            "text/plain": [
              "   SUBJECT_ID  HADM_ID  AGE  ... ETHNICITY  ICUSTAY_AGE_GROUP ICUSTAY_EXPIRE_FLAG\n",
              "0         624   120063   78  ...     WHITE              adult                   N\n",
              "1         697   162458   26  ...     WHITE              adult                   N\n",
              "2         948   107027   29  ...     WHITE              adult                   N\n",
              "3         948   142734   29  ...     WHITE              adult                   N\n",
              "4         948   125857   39  ...     WHITE              adult                   N\n",
              "\n",
              "[5 rows x 9 columns]"
            ]
          },
          "metadata": {},
          "execution_count": 121
        }
      ]
    },
    {
      "cell_type": "code",
      "metadata": {
        "colab": {
          "base_uri": "https://localhost:8080/"
        },
        "id": "PNQ0M293TmAJ",
        "outputId": "731e8247-d17a-40f0-8099-69d9be3b9b80"
      },
      "source": [
        "demo_comb = pd.merge(comb, demo, on=['SUBJECT_ID','HADM_ID'], how = 'left')\n",
        "demo_comb.shape"
      ],
      "execution_count": null,
      "outputs": [
        {
          "output_type": "execute_result",
          "data": {
            "text/plain": [
              "(45932, 25)"
            ]
          },
          "metadata": {},
          "execution_count": 122
        }
      ]
    },
    {
      "cell_type": "code",
      "source": [
        "demo_comb.rename(columns={'OUTPUT_LABEL':'Readmission within 30 days'}, inplace = True)"
      ],
      "metadata": {
        "id": "tWI8SKt1og4C"
      },
      "execution_count": null,
      "outputs": []
    },
    {
      "cell_type": "code",
      "source": [
        "len(demo_comb[demo_comb['AGE']<200])/len(demo_comb)"
      ],
      "metadata": {
        "colab": {
          "base_uri": "https://localhost:8080/"
        },
        "id": "CP3RQwMKl3aO",
        "outputId": "bdc4a531-7307-481a-e2f8-20bfc7be4918"
      },
      "execution_count": null,
      "outputs": [
        {
          "output_type": "execute_result",
          "data": {
            "text/plain": [
              "0.9540407559000261"
            ]
          },
          "metadata": {},
          "execution_count": 139
        }
      ]
    },
    {
      "cell_type": "code",
      "source": [
        "demo_comb['AGE'].describe()"
      ],
      "metadata": {
        "colab": {
          "base_uri": "https://localhost:8080/"
        },
        "id": "jIFssN4rmGl-",
        "outputId": "fe9ad39b-bdcb-4e0d-9988-614e7edac667"
      },
      "execution_count": null,
      "outputs": [
        {
          "output_type": "execute_result",
          "data": {
            "text/plain": [
              "count    45932.000000\n",
              "mean        72.838479\n",
              "std         52.634400\n",
              "min          0.000000\n",
              "25%         52.000000\n",
              "50%         65.000000\n",
              "75%         77.000000\n",
              "max        311.000000\n",
              "Name: AGE, dtype: float64"
            ]
          },
          "metadata": {},
          "execution_count": 141
        }
      ]
    },
    {
      "cell_type": "code",
      "source": [
        "demo1 = demo_comb[demo_comb['AGE']<200] # remove age outliers\n",
        "g=sns.FacetGrid(demo1, hue='Readmission within 30 days', height=3, aspect=1.5)\n",
        "g.map(sns.kdeplot, 'AGE', shade=True)\n",
        "plt.legend(loc='upper left', title='Readmission within 30 days')\n",
        "plt.tight_layout(0.0001)\n",
        "plt.savefig(\"age_dist.png\", dpi=1200)"
      ],
      "metadata": {
        "colab": {
          "base_uri": "https://localhost:8080/",
          "height": 247
        },
        "id": "gYB4sLzznulH",
        "outputId": "436cd801-ff7b-43c6-d970-b7d366463c71"
      },
      "execution_count": null,
      "outputs": [
        {
          "output_type": "display_data",
          "data": {
            "image/png": "[encoded data removed]",
            "text/plain": [
              "<Figure size 324x216 with 1 Axes>"
            ]
          },
          "metadata": {
            "needs_background": "light"
          }
        }
      ]
    },
    {
      "cell_type": "code",
      "metadata": {
        "colab": {
          "base_uri": "https://localhost:8080/",
          "height": 247
        },
        "id": "mxONFK5JSlZB",
        "outputId": "dac4be15-b2e0-4003-b3a5-efdd05f27863"
      },
      "source": [
        "fig, ax = plt.subplots(figsize=(4,3))\n",
        "# ax.set_title(\"Fig2: Age vs. Readmission within 30 days\")\n",
        "ax = sns.boxplot(x='OUTPUT_LABEL', y='AGE', data = demo_comb[demo_comb['AGE']<200])\n",
        "ax.set_xlabel('Readmission within 30 days\\n(0: no readmission, 1: have readmission)')\n",
        "ax.set_ylabel('Age')\n",
        "plt.tight_layout(0.0001)\n",
        "fig.savefig(\"age_dist.png\", dpi=1200)"
      ],
      "execution_count": null,
      "outputs": [
        {
          "output_type": "display_data",
          "data": {
            "image/png": "[encoded data removed]",
            "text/plain": [
              "<Figure size 288x216 with 1 Axes>"
            ]
          },
          "metadata": {
            "needs_background": "light"
          }
        }
      ]
    },
    {
      "cell_type": "code",
      "source": [
        "fig, ax = plt.subplots(figsize=(4,3))\n",
        "# ax.set_title(\"Fig2: Age vs. Readmission within 30 days\")\n",
        "ax = sns.countplot(x='Readmission within 30 days', hue='GENDER', data = demo1)\n",
        "ax.set_xlabel('Readmission within 30 days\\n(0: no readmission, 1: have readmission)')\n",
        "ax.set_ylabel('Patient count')\n",
        "plt.tight_layout(0.0001)\n",
        "fig.savefig(\"gender_dist.png\", dpi=1200)"
      ],
      "metadata": {
        "colab": {
          "base_uri": "https://localhost:8080/",
          "height": 247
        },
        "id": "pg1sBOUOi-a6",
        "outputId": "4e829c91-0640-4ce1-a7e3-7ea4e48d027a"
      },
      "execution_count": null,
      "outputs": [
        {
          "output_type": "display_data",
          "data": {
            "image/png": "[encoded data removed]",
            "text/plain": [
              "<Figure size 288x216 with 1 Axes>"
            ]
          },
          "metadata": {
            "needs_background": "light"
          }
        }
      ]
    }
  ]
}